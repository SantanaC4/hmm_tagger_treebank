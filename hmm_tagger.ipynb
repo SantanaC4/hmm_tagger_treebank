{
  "nbformat": 4,
  "nbformat_minor": 0,
  "metadata": {
    "colab": {
      "name": "hmm_tagger.ipynb",
      "provenance": [],
      "collapsed_sections": [],
      "authorship_tag": "ABX9TyMEbvIUVzJbtYc3r4RUi2AO",
      "include_colab_link": true
    },
    "kernelspec": {
      "name": "python3",
      "display_name": "Python 3"
    },
    "language_info": {
      "name": "python"
    }
  },
  "cells": [
    {
      "cell_type": "markdown",
      "metadata": {
        "id": "view-in-github",
        "colab_type": "text"
      },
      "source": [
        "<a href=\"https://colab.research.google.com/github/SantanaC4/hmm_tagger_treebank/blob/main/hmm_tagger.ipynb\" target=\"_parent\"><img src=\"https://colab.research.google.com/assets/colab-badge.svg\" alt=\"Open In Colab\"/></a>"
      ]
    },
    {
      "cell_type": "markdown",
      "source": [
        "# Implementation part of speech tagging from treebank corpus using Hidden Markov Model approach"
      ],
      "metadata": {
        "id": "OkuTPbMUQlDn"
      }
    },
    {
      "cell_type": "code",
      "source": [
        "import pandas as pd\n",
        "from collections import defaultdict"
      ],
      "metadata": {
        "id": "yu28aeFqQkwS"
      },
      "execution_count": 3,
      "outputs": []
    },
    {
      "cell_type": "markdown",
      "source": [
        "### Upload Penn Treebank Corpus"
      ],
      "metadata": {
        "id": "2Wzh1i1AQTDh"
      }
    },
    {
      "cell_type": "code",
      "execution_count": 4,
      "metadata": {
        "id": "im0rFG2LDdFk"
      },
      "outputs": [],
      "source": [
        "# That function filter the pair (word, tag) and remove nonsense (like: ''_'') pair of the dataset\n",
        "\n",
        "def pair_filter(section):\n",
        "  if (section == \"training\"):\n",
        "    url = 'https://raw.githubusercontent.com/SantanaC4/hmm_tagger_treebank/main/treebank_dataset/Sec0-18_training'\n",
        "  if (section == \"development\"):\n",
        "    url = 'https://raw.githubusercontent.com/SantanaC4/hmm_tagger_treebank/main/treebank_dataset/Sec-19-21_development'\n",
        "  if (section == \"testing\"):\n",
        "    url = 'https://raw.githubusercontent.com/SantanaC4/hmm_tagger_treebank/main/treebank_dataset/Sec-22-24_testing'\n",
        "\n",
        "  df = pd.read_csv(url, header=None, sep='\\n')\n",
        "  spliting =  [i.split(\" \") for i in df[0]]\n",
        "  pair_wordTag = []\n",
        "  tags = []\n",
        "  words = []\n",
        "\n",
        "  count = 0\n",
        "  for i in spliting:\n",
        "    if (len(i) == 1):\n",
        "      if (i[0] != \"''_''\"):\n",
        "          word, tag = i[0].split(\"_\")\n",
        "          pair_wordTag.append(tuple([word, tag]))\n",
        "          tags.append(tag)\n",
        "          words.append(word)\n",
        "    else:\n",
        "      for j in i:\n",
        "        if (j != \"''_''\" and j != \"'_''\"):\n",
        "          word, tag = j.split(\"_\")\n",
        "          pair_wordTag.append(tuple([word, tag]))\n",
        "          tags.append(tag)\n",
        "          words.append(word)\n",
        "  return (pair_wordTag, tags, words)"
      ]
    },
    {
      "cell_type": "code",
      "source": [
        "pair_wordTag,tags,words= pair_filter(\"training\")\n",
        "print(words[0:10])\n",
        "print(tags[0:10])\n",
        "print(pair_wordTag[0:10])\n"
      ],
      "metadata": {
        "colab": {
          "base_uri": "https://localhost:8080/"
        },
        "id": "5-UipHAMQ87E",
        "outputId": "8a6b072e-b890-4f7f-bb5d-7c22406d9849"
      },
      "execution_count": 6,
      "outputs": [
        {
          "output_type": "stream",
          "name": "stdout",
          "text": [
            "['Pierre', 'Vinken', ',', '61', 'years', 'old', ',', 'will', 'join', 'the']\n",
            "['NNP', 'NNP', ',', 'CD', 'NNS', 'JJ', ',', 'MD', 'VB', 'DT']\n",
            "[('Pierre', 'NNP'), ('Vinken', 'NNP'), (',', ','), ('61', 'CD'), ('years', 'NNS'), ('old', 'JJ'), (',', ','), ('will', 'MD'), ('join', 'VB'), ('the', 'DT')]\n"
          ]
        }
      ]
    },
    {
      "cell_type": "markdown",
      "source": [
        "### HMM"
      ],
      "metadata": {
        "id": "nuG-HzKyTphV"
      }
    },
    {
      "cell_type": "code",
      "source": [
        "class HMM:\n",
        "  def __init__(self):\n",
        "        self.bigram_cnt = defaultdict(int)\n",
        "        self.unigram_cnt = defaultdict(int)\n",
        "\n",
        "  def ngrams(self, text, n):\n",
        "        n_grams = []\n",
        "        text = [\"START\"] + text\n",
        "        for i in range(len(text)): \n",
        "            n_grams.append(tuple(text[i: i + n]))\n",
        "        n_grams[-1] = tuple([n_grams[-1][0], \"STOP\"]) \n",
        "        if (n == 2):\n",
        "          for bigram in n_grams:\n",
        "              self.bigram_cnt[bigram] += 1\n",
        "              self.unigram_cnt[bigram[0]] += 1\n",
        "              self.unigram_cnt[bigram[1]] += 1\n",
        "        return n_grams\n",
        "\n",
        "  def transition_probabilty(self, tags):\n",
        "        bigrams = self.ngrams(tags, 2)\n",
        "        for bigram in bigrams:\n",
        "            self.transition_probabilities[bigram] = self.bigram_cnt[bigram] / self.unigram_cnt[bigram[0]]\n",
        "        return self.transition_probabilities"
      ],
      "metadata": {
        "id": "2TBGcq2OUG5g"
      },
      "execution_count": 34,
      "outputs": []
    },
    {
      "cell_type": "code",
      "source": [
        "a = HMM()\n",
        "b = a.ngrams(pair_filter(\"training\")[1], 2)\n",
        "b[-1]\n",
        "a.unigram_cnt[\"NNP\"]"
      ],
      "metadata": {
        "colab": {
          "base_uri": "https://localhost:8080/"
        },
        "id": "gV5mlbvXkpHQ",
        "outputId": "40ad9589-ee3e-46e7-c622-bef3f1e553ac"
      },
      "execution_count": 38,
      "outputs": [
        {
          "output_type": "execute_result",
          "data": {
            "text/plain": [
              "175386"
            ]
          },
          "metadata": {},
          "execution_count": 38
        }
      ]
    },
    {
      "cell_type": "code",
      "source": [
        "list1 = ['value1','value2','value3']\n",
        "list2 = ['value0']\n",
        "newlist=list1+list2\n",
        "print(newlist)"
      ],
      "metadata": {
        "colab": {
          "base_uri": "https://localhost:8080/"
        },
        "id": "eIO_dJOqDHrB",
        "outputId": "4ab7ac2d-a64b-4e63-e5ab-38b0ff59d165"
      },
      "execution_count": 24,
      "outputs": [
        {
          "output_type": "stream",
          "name": "stdout",
          "text": [
            "['value1', 'value2', 'value3', 'value0']\n"
          ]
        }
      ]
    }
  ]
}